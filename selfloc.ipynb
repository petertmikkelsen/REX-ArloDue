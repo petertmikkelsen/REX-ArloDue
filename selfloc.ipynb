{
  "cells": [
    {
      "cell_type": "code",
      "execution_count": 87,
      "metadata": {
        "colab": {
          "base_uri": "https://localhost:8080/"
        },
        "id": "MS7g3sNrFdJ5",
        "outputId": "5f52af9c-4bed-48d7-d802-6bf7c04b7021"
      },
      "outputs": [
        {
          "name": "stdout",
          "output_type": "stream",
          "text": [
            "134.3811369269512\n",
            "70.73926218777204\n",
            "86.97486869380843\n"
          ]
        }
      ],
      "source": [
        "#import cv2\n",
        "import math\n",
        "import numpy as np\n",
        "import random\n",
        "import matplotlib.pyplot as plt\n",
        "import copy\n",
        "\n",
        "landmarks = [11, 13]\n",
        "landmarklocs = {11: [100, 300], 13: [300, 100]}\n",
        "\n",
        "def norm(x, mu, sigma):\n",
        "    return (1/(np.sqrt(2*np.pi)*sigma))*np.exp((-1/2)*(((x-mu)**2)/sigma**2))\n",
        "\n",
        "class Particle():\n",
        "    def __init__(self, x=0, y=0, theta=0, weight=0):\n",
        "        self.x = x\n",
        "        self.y = y\n",
        "        self.theta = np.mod(theta, 360)\n",
        "        self.weight = weight\n",
        "    \n",
        "    def initialize(self, maxX, maxY, minX=0, minY=0):\n",
        "        self.x = random.random()+random.randint(minX, maxX-1)\n",
        "        self.y = random.random()+random.randint(minY, maxY-1)\n",
        "        self.theta = random.random()+random.randint(0, 359)\n",
        "    \n",
        "    def move(self, distance):\n",
        "        distance += random.random()+(random.randint(-5, 4)*0.01*distance)\n",
        "        self.x += math.cos(self.theta)*distance\n",
        "        self.y += math.sin(self.theta)*distance\n",
        "\n",
        "    def turn(self, degrees, right = True):\n",
        "        degrees += random.random()*0.5+(random.randint(-5, 4)*0.005*degrees)\n",
        "        self.theta += (int(right)*2-1)*degrees\n",
        "\n",
        "    def getdist(self, x, y):\n",
        "        return math.sqrt((x-self.x)**2+(y-self.y)**2)\n",
        "    \n",
        "    def getthetadiff(self, x, y): #given a landmarks' coordinates, returns the degrees between the particles theta and the theta if it looked towards the landmark\n",
        "        vectorlandmark = [x-self.x, y-self.y]\n",
        "        vectortheta = [math.sin(self.theta*math.pi/180), math.cos(self.theta*math.pi/180)]\n",
        "        test = np.dot(vectortheta, vectorlandmark)\n",
        "        return (180*math.acos(test/self.getdist(x, y))/math.pi) * (2*(int(vectorlandmark[0]>=0))-1)\n",
        "\n",
        "def estimate_pose(particles_list):\n",
        "    \"\"\"Estimate the pose from particles by computing the average position and orientation over all particles. \n",
        "    This is not done using the particle weights, but just the sample distribution.\"\"\"\n",
        "    x_sum = 0.0\n",
        "    y_sum = 0.0\n",
        "    cos_sum = 0.0\n",
        "    sin_sum = 0.0\n",
        "     \n",
        "    for particle in particles_list:\n",
        "        x_sum += particle.x\n",
        "        y_sum += particle.y\n",
        "        cos_sum += np.cos(particle.theta*math.pi/180)\n",
        "        sin_sum += np.sin(particle.theta*math.pi/180)\n",
        "        \n",
        "    flen = len(particles_list)\n",
        "    if flen != 0:\n",
        "        x = x_sum / flen\n",
        "        y = y_sum / flen\n",
        "        theta = 180*np.arctan2(sin_sum/flen, cos_sum/flen)/math.pi\n",
        "    else:\n",
        "        x = x_sum\n",
        "        y = y_sum\n",
        "        theta = 0.0\n",
        "        \n",
        "    return Particle(x, y, theta)\n",
        "\n",
        "def jet(x):\n",
        "    \"\"\"Colour map for drawing particles. This function determines the colour of \n",
        "    a particle from its weight.\"\"\"\n",
        "    r = (x >= 3.0/8.0 and x < 5.0/8.0) * (4.0 * x - 3.0/2.0) + (x >= 5.0/8.0 and x < 7.0/8.0) + (x >= 7.0/8.0) * (-4.0 * x + 9.0/2.0)\n",
        "    g = (x >= 1.0/8.0 and x < 3.0/8.0) * (4.0 * x - 1.0/2.0) + (x >= 3.0/8.0 and x < 5.0/8.0) + (x >= 5.0/8.0 and x < 7.0/8.0) * (-4.0 * x + 7.0/2.0)\n",
        "    b = (x < 1.0/8.0) * (4.0 * x + 1.0/2.0) + (x >= 1.0/8.0 and x < 3.0/8.0) + (x >= 3.0/8.0 and x < 5.0/8.0) * (-4.0 * x + 5.0/2.0)\n",
        "\n",
        "    return (255.0*r, 255.0*g, 255.0*b)\n",
        "\n",
        "def draw_world(est_pose, particles, world):\n",
        "    \"\"\"Visualization.\n",
        "    This functions draws robots position in the world coordinate system.\"\"\"\n",
        "    CRED = (0, 0, 255)\n",
        "    CGREEN = (0, 255, 0)\n",
        "    CBLUE = (255, 0, 0)\n",
        "    CCYAN = (255, 255, 0)\n",
        "    CYELLOW = (0, 255, 255)\n",
        "    CMAGENTA = (255, 0, 255)\n",
        "    CWHITE = (255, 255, 255)\n",
        "    CBLACK = (0, 0, 0)\n",
        "    landmark_colors = [CRED, CGREEN]\n",
        "\n",
        "    # Fix the origin of the coordinate system\n",
        "    offsetX = 100\n",
        "    offsetY = 250\n",
        "\n",
        "    # Constant needed for transforming from world coordinates to screen coordinates (flip the y-axis)\n",
        "    ymax = world.shape[0]\n",
        "\n",
        "    world[:] = CWHITE # Clear background to white\n",
        "\n",
        "    # Find largest weight\n",
        "    max_weight = 0\n",
        "    for particle in particles:\n",
        "        max_weight = max(max_weight, particle.weight)\n",
        "\n",
        "    # Draw particles\n",
        "    for particle in particles:\n",
        "        x = int(particle.x + offsetX)\n",
        "        y = ymax - (int(particle.y + offsetY))\n",
        "        colour = jet(particle.weight / max_weight)\n",
        "        cv2.circle(world, (x,y), 2, colour, 2)\n",
        "        b = (int(particle.x + 15.0*np.cos(particle.theta))+offsetX, \n",
        "                                     ymax - (int(particle.y + 15.0*np.sin(particle.theta))+offsetY))\n",
        "        cv2.line(world, (x,y), b, colour, 2)\n",
        "\n",
        "    # Draw landmarks\n",
        "    for i in range(len(landmarks)):\n",
        "        ID = landmarks[i]\n",
        "        lm = (int(landmarklocs[ID][0] + offsetX), int(ymax - (landmarklocs[ID][1] + offsetY)))\n",
        "        cv2.circle(world, lm, 5, landmark_colors[i], 2)\n",
        "\n",
        "    # Draw estimated robot pose\n",
        "    a = (int(est_pose.x)+offsetX, ymax-(int(est_pose.y)+offsetY))\n",
        "    b = (int(est_pose.x + 15.0*np.cos(est_pose.theta))+offsetX, \n",
        "                                 ymax-(int(est_pose.y + 15.0*np.sin(est_pose.theta))+offsetY))\n",
        "    cv2.circle(world, a, 5, CMAGENTA, 2)\n",
        "    cv2.line(world, a, b, CMAGENTA, 2)\n",
        "\n",
        "#temp = Particle(0, 0, 0)\n",
        "\n",
        "particlenumber = 3500\n",
        "myparticles = []\n",
        "for i in range(particlenumber):\n",
        "    myparticles.append(Particle())\n",
        "    myparticles[-1].initialize(500, 500)\n",
        "#95% konfidensinterval for drejning er +- 2.5%\n",
        "#95% konfidensinterval for kørsel er +- 5%\n",
        "#robot = getArlo()\n",
        "\n",
        "def getweightsdist(particles, dist, thetadiff, landmarkid):\n",
        "    landmark = landmarklocs[landmarkid]\n",
        "    weights = np.zeros(len(particles))\n",
        "    for i in particles:\n",
        "        weights[particles.index(i)] = max(0.000000001, norm(dist, i.getdist(landmark[0], landmark[1]), dist*0.05))\n",
        "    #weights = weights/np.sum(weights)\n",
        "    return getweightstheta(particles, thetadiff, landmarkid, weights)\n",
        "\n",
        "\n",
        "def getweightstheta(particles, thetadiff, landmarkid, oldweights):\n",
        "\n",
        "    weights = np.zeros(len(particles))\n",
        "    landmark = landmarklocs[landmarkid]\n",
        "    for i in particles:\n",
        "        weights[particles.index(i)] = max(0.000000001, norm(thetadiff, i.getthetadiff(landmark[0], landmark[1]), 3))\n",
        "    weights = weights*oldweights\n",
        "    weights = weights/np.sum(weights)\n",
        "    for i in range(len(particles)):\n",
        "        particles[i].weight = weights[i]\n",
        "    newparticles = []\n",
        "    for i in range(len(particles)):\n",
        "        newparticles.append(np.random.choice(particles, p=weights))\n",
        "    return newparticles\n",
        "\n",
        "\n",
        "\n",
        "resamples = getweightsdist(myparticles, 200, 0, 11)\n",
        "bestparticle = estimate_pose(resamples)\n",
        "\n",
        "for i in resamples:\n",
        "    i.turn(90)\n",
        "\n",
        "resamples2 = getweightsdist(copy.deepcopy(resamples), 200, 0, 13)\n",
        "bestparticle = estimate_pose(resamples2)\n",
        "print(bestparticle.x)\n",
        "print(bestparticle.y)\n",
        "print(bestparticle.theta)\n",
        "#world = np.zeros((500,500,3), dtype=np.uint8)\n",
        "#draw_world(bestparticle, myparticles, world)\n",
        "\n",
        "\n"
      ]
    },
    {
      "cell_type": "code",
      "execution_count": 88,
      "metadata": {
        "colab": {
          "base_uri": "https://localhost:8080/",
          "height": 306
        },
        "id": "aFZaWGLGGXyP",
        "outputId": "50ca3a73-213a-4a05-97e8-8fd8462e9670"
      },
      "outputs": [
        {
          "name": "stdout",
          "output_type": "stream",
          "text": [
            "{0.16191383843061458, 0.05432191302188755, 0.019472336372158783, 0.12938593612617938, 0.014231997119870832, 0.03863095796214172, 0.019572640996179284, 6.33812357213649e-05, 0.000997364924983873, 0.0016321075261573445, 0.08196559254503101, 0.10652950643630772, 0.11131214416638903, 0.004734667351686777, 0.013078521648422733, 0.0005156202998211817, 0.010802794287390859, 2.450657680310915e-05, 0.00010381826796276541, 0.0032371489413738613, 0.0019041916426064942, 0.007906157357797343, 0.06300213128056084, 0.07448005766582608, 0.00024393319145641075, 0.0034259103359113078, 0.0029583562952114418, 0.0006752170501961132, 0.00010162761692010301, 0.005303817160550714, 0.0032366684893956207, 0.00012777018587666552, 0.001864734059329845, 2.8024732921230994e-05, 0.05081154226691747, 0.004805780536581865, 0.003827507687320038, 0.0020167550873735327}\n"
          ]
        },
        {
          "data": {
            "image/png": "[encoded data removed]",
            "text/plain": [
              "<Figure size 432x288 with 1 Axes>"
            ]
          },
          "metadata": {
            "needs_background": "light"
          },
          "output_type": "display_data"
        }
      ],
      "source": [
        "#for i in resamples:\n",
        "#  plt.plot(i.x, i.y, 'ro')\n",
        "plt.axis([0, 500, 0, 500])\n",
        "print(set([x.weight for x in resamples]))\n",
        "plt.plot([x.x for x in resamples], [x.y for x in resamples], 'ro')\n",
        "plt.show()"
      ]
    },
    {
      "cell_type": "code",
      "execution_count": null,
      "metadata": {
        "id": "1RHwN1JMJQa-"
      },
      "outputs": [],
      "source": []
    },
    {
      "cell_type": "code",
      "execution_count": 89,
      "metadata": {
        "colab": {
          "base_uri": "https://localhost:8080/",
          "height": 286
        },
        "id": "Bz5DZCrjJR-u",
        "outputId": "284316c5-3119-49d2-d7b3-ee65021596df"
      },
      "outputs": [
        {
          "name": "stdout",
          "output_type": "stream",
          "text": [
            "{0.999929944602879}\n"
          ]
        },
        {
          "data": {
            "image/png": "[encoded data removed]",
            "text/plain": [
              "<Figure size 432x288 with 1 Axes>"
            ]
          },
          "metadata": {
            "needs_background": "light"
          },
          "output_type": "display_data"
        }
      ],
      "source": [
        "#for i in resamples:\n",
        "#  plt.plot(i.x, i.y, 'ro')\n",
        "print(set([x.weight for x in resamples2]))\n",
        "plt.axis([0, 500, 0, 500])\n",
        "plt.plot([x.x for x in resamples2], [x.y for x in resamples2], 'ro')\n",
        "plt.show()"
      ]
    }
  ],
  "metadata": {
    "colab": {
      "provenance": []
    },
    "kernelspec": {
      "display_name": "Python 3",
      "name": "python3"
    },
    "language_info": {
      "name": "python"
    }
  },
  "nbformat": 4,
  "nbformat_minor": 0
}
